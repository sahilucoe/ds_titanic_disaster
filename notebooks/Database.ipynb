{
 "cells": [
  {
   "cell_type": "code",
   "execution_count": 1,
   "metadata": {},
   "outputs": [],
   "source": [
    "import sqlite3"
   ]
  },
  {
   "cell_type": "code",
   "execution_count": 4,
   "metadata": {},
   "outputs": [],
   "source": [
    "connection = sqlite3.connect(\"classroomDb.db\")\n",
    "connection.close()"
   ]
  },
  {
   "cell_type": "code",
   "execution_count": 8,
   "metadata": {},
   "outputs": [],
   "source": [
    "connection = sqlite3.connect(\"classroomDb.db\")\n",
    "cursor = connection.cursor()\n",
    "\n",
    "create_table = \"\"\" CREATE TABLE classroom_new (student_id INTEGER PRIMARY KEY, name VARCHAR(20),gender CHAR(1),physics_marks INTEGER,chemistry_marks INTEGER,mathematics_marks INTEGER); \"\"\"\n",
    "cursor.execute(create_table)\n",
    "connection.commit()\n",
    "connection.close()"
   ]
  },
  {
   "cell_type": "code",
   "execution_count": 9,
   "metadata": {},
   "outputs": [],
   "source": [
    "data = [(1,\"sahil\",\"M\",90,90,90),(2,\"tejas\",\"F\",70,80,90),(3,\"swapnil\",\"M\",50,60,50)]\n",
    "connection = sqlite3.connect(\"classroomDb.db\")\n",
    "cursor = connection.cursor()\n",
    "\n",
    "for student in data:\n",
    "    insert_statement = \"\"\" INSERT INTO classroom_new VALUES ({0},\"{1}\",\"{2}\",{3},{4},{5});\"\"\".format(student[0],student[1],student[2],student[3],student[4],student[5])\n",
    "    cursor.execute(insert_statement)\n",
    "\n",
    "connection.commit()\n",
    "connection.close()"
   ]
  },
  {
   "cell_type": "code",
   "execution_count": 10,
   "metadata": {},
   "outputs": [
    {
     "name": "stdout",
     "output_type": "stream",
     "text": [
      "(1, u'sahil', u'M', 90, 90, 90)\n",
      "(2, u'tejas', u'F', 70, 80, 90)\n",
      "(3, u'swapnil', u'M', 50, 60, 50)\n"
     ]
    }
   ],
   "source": [
    "connection = sqlite3.connect(\"classroomDb.db\")\n",
    "cursor = connection.cursor()\n",
    "cursor.execute(\" select * from classroom_new \")\n",
    "result = cursor.fetchall()\n",
    "\n",
    "for row in result:\n",
    "    print(row)\n",
    "    \n",
    "connection.close()\n"
   ]
  },
  {
   "cell_type": "code",
   "execution_count": 11,
   "metadata": {},
   "outputs": [
    {
     "name": "stdout",
     "output_type": "stream",
     "text": [
      "Solving environment: ...working... done\n",
      "\n",
      "## Package Plan ##\n",
      "\n",
      "  environment location: C:\\ProgramData\\Anaconda2\n",
      "\n",
      "  added / updated specs: \n",
      "    - pymssql\n",
      "\n",
      "\n",
      "The following packages will be downloaded:\n",
      "\n",
      "    package                    |            build\n",
      "    ---------------------------|-----------------\n",
      "    freetds-1.00.91            |       hc64555f_0         983 KB\n",
      "    conda-4.5.8                |           py27_0         1.0 MB\n",
      "    pymssql-2.1.3              |           py27_0         310 KB\n",
      "    ------------------------------------------------------------\n",
      "                                           Total:         2.3 MB\n",
      "\n",
      "The following NEW packages will be INSTALLED:\n",
      "\n",
      "    freetds: 1.00.91-hc64555f_0\n",
      "    pymssql: 2.1.3-py27_0      \n",
      "\n",
      "The following packages will be UPDATED:\n",
      "\n",
      "    conda:   4.5.4-py27_0       --> 4.5.8-py27_0\n",
      "\n",
      "Preparing transaction: ...working... done\n",
      "Verifying transaction: ...working... done\n",
      "Executing transaction: ...working... done\n"
     ]
    }
   ],
   "source": [
    "!conda install -y -q pymssql"
   ]
  },
  {
   "cell_type": "code",
   "execution_count": 12,
   "metadata": {},
   "outputs": [],
   "source": [
    "import pymssql\n"
   ]
  },
  {
   "cell_type": "code",
   "execution_count": 24,
   "metadata": {},
   "outputs": [
    {
     "name": "stdout",
     "output_type": "stream",
     "text": [
      "(u'Event Two', u'JAMS_Event_19302', u'1c455cf6-8140-4dc3-b0aa-2699a31d620f', u'2018-01-01 00:00:00.0000000 +00:00', False, None, None, None, u'NotVisible', u'Never', 19302L, u'Succeeded', u'US_ZIP_2015A_v2', u'FromFullFeed', None, u'2018-03-12 12:48:49.1850455 +00:00', u'1108947|1108952|1109005|1109012', u'Shrestha_R20', u'Base', 1L, False, u'1900-01-01 00:00:00.0000000 +00:00', 1500L, 0, 0L, 0, False)\n"
     ]
    }
   ],
   "source": [
    "cnx = {\n",
    "    'host':'PU-SDSK16277\\MSSQLSERVER2014','username':'zs\\sk16277','password':'Arvindk2k20?','db':'JAMS'}\n",
    "connection = pymssql.connect(cnx['host'],cnx['username'],cnx['password'],cnx['db'])\n",
    "\n",
    "cursor = connection.cursor()\n",
    "cursor.execute(\" select * from dbo.Events \")\n",
    "result = cursor.fetchall()\n",
    "\n",
    "for row in result:\n",
    "    print(row)\n",
    "\n",
    "conn.close()"
   ]
  },
  {
   "cell_type": "code",
   "execution_count": null,
   "metadata": {},
   "outputs": [],
   "source": []
  }
 ],
 "metadata": {
  "kernelspec": {
   "display_name": "Python 2",
   "language": "python",
   "name": "python2"
  },
  "language_info": {
   "codemirror_mode": {
    "name": "ipython",
    "version": 2
   },
   "file_extension": ".py",
   "mimetype": "text/x-python",
   "name": "python",
   "nbconvert_exporter": "python",
   "pygments_lexer": "ipython2",
   "version": "2.7.15"
  }
 },
 "nbformat": 4,
 "nbformat_minor": 2
}
