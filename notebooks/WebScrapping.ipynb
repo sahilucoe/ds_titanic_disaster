{
 "cells": [
  {
   "cell_type": "code",
   "execution_count": 1,
   "metadata": {},
   "outputs": [],
   "source": [
    "import requests\n",
    "from bs4 import BeautifulSoup"
   ]
  },
  {
   "cell_type": "code",
   "execution_count": 12,
   "metadata": {},
   "outputs": [],
   "source": [
    "html_str =\"\"\"\n",
    "<html>\n",
    "<head>\n",
    "    <title>Demo Page</title>\n",
    "</head>\n",
    "<body>\n",
    "<table id=\"customers\">\n",
    "  <tbody><tr>\n",
    "    <th id=\"1\">Company</th>\n",
    "    <th id=\"2\">Contact</th>\n",
    "    <th id=\"3\">Country</th>\n",
    "  </tr>\n",
    "  <tr>\n",
    "    <td>Alfreds Futterkiste</td>\n",
    "    <td>Maria Anders</td>\n",
    "    <td>Germany</td>\n",
    "  </tr>\n",
    "  <tr>\n",
    "    <td>Centro comercial Moctezuma</td>\n",
    "    <td>Francisco Chang</td>\n",
    "    <td>Mexico</td>\n",
    "  </tr>\n",
    "  <tr>\n",
    "    <td>Ernst Handel</td>\n",
    "    <td>Roland Mendel</td>\n",
    "    <td>Austria</td>\n",
    "  </tr>\n",
    "  <tr>\n",
    "    <td>Island Trading</td>\n",
    "    <td>Helen Bennett</td>\n",
    "    <td>UK</td>\n",
    "  </tr>\n",
    "  <tr>\n",
    "    <td>Laughing Bacchus Winecellars</td>\n",
    "    <td>Yoshi Tannamuri</td>\n",
    "    <td>Canada</td>\n",
    "  </tr>\n",
    "  <tr>\n",
    "    <td>Magazzini Alimentari Riuniti</td>\n",
    "    <td>Giovanni Rovelli</td>\n",
    "    <td>Italy</td>\n",
    "  </tr>\n",
    "</tbody></table>\n",
    "</body>\n",
    "</hmtl>\n",
    "\"\"\""
   ]
  },
  {
   "cell_type": "code",
   "execution_count": 14,
   "metadata": {},
   "outputs": [
    {
     "data": {
      "text/html": [
       "\n",
       "<html>\n",
       "<head>\n",
       "    <title>Demo Page</title>\n",
       "</head>\n",
       "<body>\n",
       "<table id=\"customers\">\n",
       "  <tbody><tr>\n",
       "    <th id=\"1\">Company</th>\n",
       "    <th id=\"2\">Contact</th>\n",
       "    <th id=\"3\">Country</th>\n",
       "  </tr>\n",
       "  <tr>\n",
       "    <td>Alfreds Futterkiste</td>\n",
       "    <td>Maria Anders</td>\n",
       "    <td>Germany</td>\n",
       "  </tr>\n",
       "  <tr>\n",
       "    <td>Centro comercial Moctezuma</td>\n",
       "    <td>Francisco Chang</td>\n",
       "    <td>Mexico</td>\n",
       "  </tr>\n",
       "  <tr>\n",
       "    <td>Ernst Handel</td>\n",
       "    <td>Roland Mendel</td>\n",
       "    <td>Austria</td>\n",
       "  </tr>\n",
       "  <tr>\n",
       "    <td>Island Trading</td>\n",
       "    <td>Helen Bennett</td>\n",
       "    <td>UK</td>\n",
       "  </tr>\n",
       "  <tr>\n",
       "    <td>Laughing Bacchus Winecellars</td>\n",
       "    <td>Yoshi Tannamuri</td>\n",
       "    <td>Canada</td>\n",
       "  </tr>\n",
       "  <tr>\n",
       "    <td>Magazzini Alimentari Riuniti</td>\n",
       "    <td>Giovanni Rovelli</td>\n",
       "    <td>Italy</td>\n",
       "  </tr>\n",
       "</tbody></table>\n",
       "</body>\n",
       "</hmtl>\n"
      ],
      "text/plain": [
       "<IPython.core.display.HTML object>"
      ]
     },
     "metadata": {},
     "output_type": "display_data"
    }
   ],
   "source": [
    "from IPython.core.display import display, HTML\n",
    "display(HTML(html_str))"
   ]
  },
  {
   "cell_type": "code",
   "execution_count": 15,
   "metadata": {},
   "outputs": [],
   "source": [
    "ps = BeautifulSoup(html_str)"
   ]
  },
  {
   "cell_type": "code",
   "execution_count": 6,
   "metadata": {},
   "outputs": [
    {
     "name": "stdout",
     "output_type": "stream",
     "text": [
      "<html>\n",
      "<head>\n",
      "<title>Demo Page</title>\n",
      "</head>\n",
      "<body>\n",
      "<table id=\"customers\">\n",
      "<tbody><tr>\n",
      "<th>Company</th>\n",
      "<th>Contact</th>\n",
      "<th>Country</th>\n",
      "</tr>\n",
      "<tr>\n",
      "<td>Alfreds Futterkiste</td>\n",
      "<td>Maria Anders</td>\n",
      "<td>Germany</td>\n",
      "</tr>\n",
      "<tr>\n",
      "<td>Centro comercial Moctezuma</td>\n",
      "<td>Francisco Chang</td>\n",
      "<td>Mexico</td>\n",
      "</tr>\n",
      "<tr>\n",
      "<td>Ernst Handel</td>\n",
      "<td>Roland Mendel</td>\n",
      "<td>Austria</td>\n",
      "</tr>\n",
      "<tr>\n",
      "<td>Island Trading</td>\n",
      "<td>Helen Bennett</td>\n",
      "<td>UK</td>\n",
      "</tr>\n",
      "<tr>\n",
      "<td>Laughing Bacchus Winecellars</td>\n",
      "<td>Yoshi Tannamuri</td>\n",
      "<td>Canada</td>\n",
      "</tr>\n",
      "<tr>\n",
      "<td>Magazzini Alimentari Riuniti</td>\n",
      "<td>Giovanni Rovelli</td>\n",
      "<td>Italy</td>\n",
      "</tr>\n",
      "</tbody></table>\n",
      "</body>\n",
      "</html>\n"
     ]
    }
   ],
   "source": [
    "print(ps)"
   ]
  },
  {
   "cell_type": "code",
   "execution_count": 16,
   "metadata": {},
   "outputs": [],
   "source": [
    "body=ps.find(name=\"body\")"
   ]
  },
  {
   "cell_type": "code",
   "execution_count": 17,
   "metadata": {},
   "outputs": [
    {
     "name": "stdout",
     "output_type": "stream",
     "text": [
      "<body>\n",
      "<table id=\"customers\">\n",
      "<tbody><tr>\n",
      "<th id=\"1\">Company</th>\n",
      "<th id=\"2\">Contact</th>\n",
      "<th id=\"3\">Country</th>\n",
      "</tr>\n",
      "<tr>\n",
      "<td>Alfreds Futterkiste</td>\n",
      "<td>Maria Anders</td>\n",
      "<td>Germany</td>\n",
      "</tr>\n",
      "<tr>\n",
      "<td>Centro comercial Moctezuma</td>\n",
      "<td>Francisco Chang</td>\n",
      "<td>Mexico</td>\n",
      "</tr>\n",
      "<tr>\n",
      "<td>Ernst Handel</td>\n",
      "<td>Roland Mendel</td>\n",
      "<td>Austria</td>\n",
      "</tr>\n",
      "<tr>\n",
      "<td>Island Trading</td>\n",
      "<td>Helen Bennett</td>\n",
      "<td>UK</td>\n",
      "</tr>\n",
      "<tr>\n",
      "<td>Laughing Bacchus Winecellars</td>\n",
      "<td>Yoshi Tannamuri</td>\n",
      "<td>Canada</td>\n",
      "</tr>\n",
      "<tr>\n",
      "<td>Magazzini Alimentari Riuniti</td>\n",
      "<td>Giovanni Rovelli</td>\n",
      "<td>Italy</td>\n",
      "</tr>\n",
      "</tbody></table>\n",
      "</body>\n"
     ]
    }
   ],
   "source": [
    "print(body)"
   ]
  },
  {
   "cell_type": "code",
   "execution_count": 10,
   "metadata": {},
   "outputs": [
    {
     "name": "stdout",
     "output_type": "stream",
     "text": [
      "\n",
      "\n",
      "Company\n",
      "Contact\n",
      "Country\n",
      "\n",
      "\n",
      "Alfreds Futterkiste\n",
      "Maria Anders\n",
      "Germany\n",
      "\n",
      "\n",
      "Centro comercial Moctezuma\n",
      "Francisco Chang\n",
      "Mexico\n",
      "\n",
      "\n",
      "Ernst Handel\n",
      "Roland Mendel\n",
      "Austria\n",
      "\n",
      "\n",
      "Island Trading\n",
      "Helen Bennett\n",
      "UK\n",
      "\n",
      "\n",
      "Laughing Bacchus Winecellars\n",
      "Yoshi Tannamuri\n",
      "Canada\n",
      "\n",
      "\n",
      "Magazzini Alimentari Riuniti\n",
      "Giovanni Rovelli\n",
      "Italy\n",
      "\n",
      "\n"
     ]
    }
   ],
   "source": [
    "print(ps.find(name=\"table\").text)\n"
   ]
  },
  {
   "cell_type": "code",
   "execution_count": 18,
   "metadata": {},
   "outputs": [
    {
     "name": "stdout",
     "output_type": "stream",
     "text": [
      "<tr>\n",
      "<th id=\"1\">Company</th>\n",
      "<th id=\"2\">Contact</th>\n",
      "<th id=\"3\">Country</th>\n",
      "</tr>\n"
     ]
    }
   ],
   "source": [
    "print(ps.find(name=\"tr\"))"
   ]
  },
  {
   "cell_type": "code",
   "execution_count": 32,
   "metadata": {},
   "outputs": [
    {
     "name": "stdout",
     "output_type": "stream",
     "text": [
      "<tr>\n",
      "<td>Alfreds Futterkiste</td>\n",
      "<td>Maria Anders</td>\n",
      "<td>Germany</td>\n",
      "</tr>\n",
      "<tr>\n",
      "<td>Centro comercial Moctezuma</td>\n",
      "<td>Francisco Chang</td>\n",
      "<td>Mexico</td>\n",
      "</tr>\n"
     ]
    }
   ],
   "source": [
    "for tr in ps.findAll(name=\"tr\")[1:3]:\n",
    "    print(tr)"
   ]
  },
  {
   "cell_type": "code",
   "execution_count": 30,
   "metadata": {},
   "outputs": [
    {
     "name": "stdout",
     "output_type": "stream",
     "text": [
      "<th id=\"1\">Company</th>\n"
     ]
    }
   ],
   "source": [
    "for tr in ps.findAll(name=\"th\",attrs={\"id\":\"1\"}):\n",
    "    print(tr)"
   ]
  },
  {
   "cell_type": "code",
   "execution_count": null,
   "metadata": {},
   "outputs": [],
   "source": []
  }
 ],
 "metadata": {
  "kernelspec": {
   "display_name": "Python 2",
   "language": "python",
   "name": "python2"
  },
  "language_info": {
   "codemirror_mode": {
    "name": "ipython",
    "version": 2
   },
   "file_extension": ".py",
   "mimetype": "text/x-python",
   "name": "python",
   "nbconvert_exporter": "python",
   "pygments_lexer": "ipython2",
   "version": "2.7.15"
  }
 },
 "nbformat": 4,
 "nbformat_minor": 2
}
